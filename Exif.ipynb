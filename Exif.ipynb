{
  "nbformat": 4,
  "nbformat_minor": 0,
  "metadata": {
    "colab": {
      "provenance": [],
      "authorship_tag": "ABX9TyN314ahN7Ba9lio1T1Jvtwo",
      "include_colab_link": true
    },
    "kernelspec": {
      "name": "python3",
      "display_name": "Python 3"
    },
    "language_info": {
      "name": "python"
    }
  },
  "cells": [
    {
      "cell_type": "markdown",
      "metadata": {
        "id": "view-in-github",
        "colab_type": "text"
      },
      "source": [
        "<a href=\"https://colab.research.google.com/github/safry4/Programming/blob/main/Exif.ipynb\" target=\"_parent\"><img src=\"https://colab.research.google.com/assets/colab-badge.svg\" alt=\"Open In Colab\"/></a>"
      ]
    },
    {
      "cell_type": "code",
      "execution_count": 1,
      "metadata": {
        "colab": {
          "base_uri": "https://localhost:8080/"
        },
        "id": "Jae935duGCmz",
        "outputId": "983a6066-7300-446a-e2b9-9e1f331e2079"
      },
      "outputs": [
        {
          "output_type": "stream",
          "name": "stdout",
          "text": [
            "Requirement already satisfied: exif in /usr/local/lib/python3.10/dist-packages (1.6.0)\n",
            "Requirement already satisfied: plum-py<2.0.0,>=0.5.0 in /usr/local/lib/python3.10/dist-packages (from exif) (0.8.7)\n"
          ]
        }
      ],
      "source": [
        "!pip install exif"
      ]
    },
    {
      "cell_type": "code",
      "source": [
        "import numpy as np\n",
        "import pandas as pd\n",
        "import matplotlib.pyplot as plt\n",
        "import os\n",
        "import time\n",
        "\n",
        "import cv2\n",
        "from exif import Image"
      ],
      "metadata": {
        "id": "B0cumADKGFsn"
      },
      "execution_count": 2,
      "outputs": []
    },
    {
      "cell_type": "code",
      "source": [
        "# folder_path = 'sample_images'\n",
        "# img_filename = 'image_1.jpg'\n",
        "# img_path = f'{folder_path}/{img_filename}'"
      ],
      "metadata": {
        "id": "bPo4vpD5HF15"
      },
      "execution_count": 3,
      "outputs": []
    },
    {
      "cell_type": "code",
      "source": [
        "# img = cv2.imread(img_path)\n",
        "# img = cv2.cvtColor(img, cv2.COLOR_BGR2RGB)\n",
        "# plt.rcParams[\"figure.figsize\"] = (20,10)\n",
        "# plt.axis('off')\n",
        "# plt.imshow(img);"
      ],
      "metadata": {
        "id": "eAbqexjxIe3b"
      },
      "execution_count": 4,
      "outputs": []
    },
    {
      "cell_type": "code",
      "source": [],
      "metadata": {
        "id": "L4_SWadlJGX7"
      },
      "execution_count": 4,
      "outputs": []
    },
    {
      "cell_type": "code",
      "source": [
        "# with open(img_path, 'rb') as img_file:\n",
        "#     img = Image(img_file)"
      ],
      "metadata": {
        "id": "lnP-APJ6Ifo1"
      },
      "execution_count": 5,
      "outputs": []
    },
    {
      "cell_type": "code",
      "source": [
        "# img.has_exif"
      ],
      "metadata": {
        "id": "cz_Cs18-ImwB"
      },
      "execution_count": 6,
      "outputs": []
    },
    {
      "cell_type": "code",
      "source": [
        "# # List all EXIF tags contained in the image\n",
        "# sorted(img.list_all())"
      ],
      "metadata": {
        "id": "OoGAEM0HIp6r"
      },
      "execution_count": 7,
      "outputs": []
    },
    {
      "cell_type": "code",
      "source": [
        "def get_metadata_single(img_path):\n",
        "    with open(img_path, 'rb') as img_file:\n",
        "        img = Image(img_file)\n",
        "        if not img.has_exif:\n",
        "            print('Image does not have EXIF metadata')\n",
        "        else:\n",
        "            df = pd.DataFrame(columns=['attribute', 'value'])\n",
        "            attr_list = img.list_all()\n",
        "\n",
        "            # Add image file name\n",
        "            df = pd.concat([df, pd.DataFrame([{'attribute': 'image_path', 'value': img_path}])], ignore_index=True)\n",
        "\n",
        "\n",
        "            for attr in attr_list:\n",
        "                value = img.get(attr)\n",
        "                dict_i = {'attribute': attr,\n",
        "                         'value': value}\n",
        "                # Use pd.concat instead of df.append\n",
        "                df = pd.concat([df, pd.DataFrame([dict_i])], ignore_index=True)\n",
        "\n",
        "            df.sort_values(by='attribute', inplace=True)\n",
        "            df.set_index('attribute', inplace=True)\n",
        "            return df"
      ],
      "metadata": {
        "id": "TQ1tchDXJG_0"
      },
      "execution_count": 8,
      "outputs": []
    },
    {
      "cell_type": "code",
      "source": [
        "# metadata_df = get_metadata_single(img_path)\n",
        "# metadata_df"
      ],
      "metadata": {
        "id": "s9If3fN8JIGO"
      },
      "execution_count": 9,
      "outputs": []
    },
    {
      "cell_type": "code",
      "source": [
        "# print(f'{img.get(\"maker_note\")}')"
      ],
      "metadata": {
        "id": "DC9w23unJjeo"
      },
      "execution_count": 10,
      "outputs": []
    },
    {
      "cell_type": "code",
      "source": [
        "# img.copyright  = 'Elena'"
      ],
      "metadata": {
        "id": "HNesvJvJJjtH"
      },
      "execution_count": 11,
      "outputs": []
    },
    {
      "cell_type": "code",
      "source": [
        "# print(f'Copyright: {img.get(\"copyright\")}')"
      ],
      "metadata": {
        "id": "B75XUf6OK6pn"
      },
      "execution_count": 12,
      "outputs": []
    },
    {
      "cell_type": "code",
      "source": [
        "#search for all images on PC"
      ],
      "metadata": {
        "id": "x6bGRI_AOvAw"
      },
      "execution_count": 13,
      "outputs": []
    },
    {
      "cell_type": "code",
      "source": [
        "#make a table - name||location||date||software||x_resolution||y-resolution||format"
      ],
      "metadata": {
        "id": "VTUXeJGAOyZP"
      },
      "execution_count": 14,
      "outputs": []
    },
    {
      "cell_type": "code",
      "source": [
        "#assign an artist(owner)"
      ],
      "metadata": {
        "id": "RCeRR7owPwwB"
      },
      "execution_count": 15,
      "outputs": []
    },
    {
      "cell_type": "code",
      "source": [
        "import os\n",
        "\n",
        "def list_figure_files(root_dir, extensions=['.jpg', '.jpeg', '.png', '.gif', '.bmp', '.svg']):\n",
        "    \"\"\"\n",
        "    Lists all files with specified extensions (presumably figure files)\n",
        "    within a given root directory and its subdirectories.\n",
        "\n",
        "    Args:\n",
        "        root_dir (str): The root directory to search within.\n",
        "        extensions (list, optional): List of file extensions to consider.\n",
        "                                     Defaults to common image formats.\n",
        "\n",
        "    Returns:\n",
        "        list: A list of figure filenames found.\n",
        "    \"\"\"\n",
        "\n",
        "    figure_files = []\n",
        "    for dirpath, dirnames, filenames in os.walk(root_dir):\n",
        "        for filename in filenames:\n",
        "            if any(filename.lower().endswith(ext) for ext in extensions):\n",
        "                figure_files.append(os.path.join(dirpath, filename))\n",
        "    return figure_files\n",
        "\n",
        "# Example usage:\n",
        "root_directory = 'C:/Users/es2122/Downloads'  # Replace with your desired root directory\n",
        "figure_filenames = list_figure_files(root_directory)\n",
        "\n",
        "for filename in figure_filenames:\n",
        "    print(filename)"
      ],
      "metadata": {
        "id": "3dPkvr9BPSgo"
      },
      "execution_count": 16,
      "outputs": []
    },
    {
      "cell_type": "code",
      "source": [
        "#how to walk through all directories on my pc and print all images, on cmd and ouput a list ang highlight diplicates automatically"
      ],
      "metadata": {
        "id": "AeJovNmfR5yo"
      },
      "execution_count": 17,
      "outputs": []
    },
    {
      "cell_type": "code",
      "source": [
        "#add more formats"
      ],
      "metadata": {
        "id": "N85iPCGGid4q"
      },
      "execution_count": 18,
      "outputs": []
    },
    {
      "cell_type": "code",
      "source": [
        "table = pd.DataFrame(columns=['name', 'location', 'date', 'format'])"
      ],
      "metadata": {
        "id": "W-JGN28HhoUx"
      },
      "execution_count": 19,
      "outputs": []
    },
    {
      "cell_type": "code",
      "source": [
        "#wrong for aan image without exif"
      ],
      "metadata": {
        "id": "bFKxykogvtJG"
      },
      "execution_count": 20,
      "outputs": []
    },
    {
      "cell_type": "code",
      "source": [
        "#possible error - . in the name"
      ],
      "metadata": {
        "id": "nCgzscAf0HUd"
      },
      "execution_count": null,
      "outputs": []
    },
    {
      "cell_type": "code",
      "source": [
        "root_directory = '/content/sample_images'  # Replace with your desired root directory\n",
        "os.chdir(root_directory)\n",
        "figure_filenames = list_figure_files(root_directory)\n",
        "\n",
        "for i, (a,b,f) in enumerate(os.walk(root_directory)):\n",
        "  # f is a list of filenames in the current directory\n",
        "  for filename in f:\n",
        "    parts = filename.split('.') #splits at the .jpg\n",
        "\n",
        "    name = parts[0]  # This will contain 'image_1'\n",
        "    format = parts[1] # set format to jpg, could be extracted from the file extension if diverse\n",
        "    print('format', format)\n",
        "\n",
        "\n",
        "\n",
        "    #Use Image.open from PIL\n",
        "    img_path = f'{root_directory}/{f[0]}'\n",
        "    with open(img_path, 'rb') as img_file:\n",
        "      img = Image(img_file)\n",
        "      if img.has_exif:\n",
        "        new_data = {'name': name, 'location': root_directory, 'date': img.datetime,  'format': format}\n",
        "        table = pd.concat([table, pd.DataFrame(new_data, index=[i])], ignore_index=True)\n",
        "      else:\n",
        "        new_data = {'name': name, 'location': root_directory,  'format': format}\n",
        "        table = pd.concat([table, pd.DataFrame(new_data, index=[i])], ignore_index=True)"
      ],
      "metadata": {
        "colab": {
          "base_uri": "https://localhost:8080/"
        },
        "id": "a7i2eX0WQlK9",
        "outputId": "b548d483-8f24-47c7-ae6b-722e6bf3d362"
      },
      "execution_count": 21,
      "outputs": [
        {
          "output_type": "stream",
          "name": "stdout",
          "text": [
            "format jpg\n",
            "format png\n",
            "format jpg\n"
          ]
        }
      ]
    },
    {
      "cell_type": "code",
      "source": [
        "table"
      ],
      "metadata": {
        "colab": {
          "base_uri": "https://localhost:8080/",
          "height": 143
        },
        "id": "MBCZCGHdoIZc",
        "outputId": "50ae0a26-e8b1-4fb2-ac70-5511ca8b813e"
      },
      "execution_count": 22,
      "outputs": [
        {
          "output_type": "execute_result",
          "data": {
            "text/plain": [
              "                           name                location                 date  \\\n",
              "0                       image_2  /content/sample_images  2021:10:28 01:23:13   \n",
              "1  download - 2024-11-08T104259  /content/sample_images  2021:10:28 01:23:13   \n",
              "2                       image_1  /content/sample_images  2021:10:28 01:23:13   \n",
              "\n",
              "  format  \n",
              "0    jpg  \n",
              "1    png  \n",
              "2    jpg  "
            ],
            "text/html": [
              "\n",
              "  <div id=\"df-a415a123-e7cd-4316-a4a8-f78eb802dc91\" class=\"colab-df-container\">\n",
              "    <div>\n",
              "<style scoped>\n",
              "    .dataframe tbody tr th:only-of-type {\n",
              "        vertical-align: middle;\n",
              "    }\n",
              "\n",
              "    .dataframe tbody tr th {\n",
              "        vertical-align: top;\n",
              "    }\n",
              "\n",
              "    .dataframe thead th {\n",
              "        text-align: right;\n",
              "    }\n",
              "</style>\n",
              "<table border=\"1\" class=\"dataframe\">\n",
              "  <thead>\n",
              "    <tr style=\"text-align: right;\">\n",
              "      <th></th>\n",
              "      <th>name</th>\n",
              "      <th>location</th>\n",
              "      <th>date</th>\n",
              "      <th>format</th>\n",
              "    </tr>\n",
              "  </thead>\n",
              "  <tbody>\n",
              "    <tr>\n",
              "      <th>0</th>\n",
              "      <td>image_2</td>\n",
              "      <td>/content/sample_images</td>\n",
              "      <td>2021:10:28 01:23:13</td>\n",
              "      <td>jpg</td>\n",
              "    </tr>\n",
              "    <tr>\n",
              "      <th>1</th>\n",
              "      <td>download - 2024-11-08T104259</td>\n",
              "      <td>/content/sample_images</td>\n",
              "      <td>2021:10:28 01:23:13</td>\n",
              "      <td>png</td>\n",
              "    </tr>\n",
              "    <tr>\n",
              "      <th>2</th>\n",
              "      <td>image_1</td>\n",
              "      <td>/content/sample_images</td>\n",
              "      <td>2021:10:28 01:23:13</td>\n",
              "      <td>jpg</td>\n",
              "    </tr>\n",
              "  </tbody>\n",
              "</table>\n",
              "</div>\n",
              "    <div class=\"colab-df-buttons\">\n",
              "\n",
              "  <div class=\"colab-df-container\">\n",
              "    <button class=\"colab-df-convert\" onclick=\"convertToInteractive('df-a415a123-e7cd-4316-a4a8-f78eb802dc91')\"\n",
              "            title=\"Convert this dataframe to an interactive table.\"\n",
              "            style=\"display:none;\">\n",
              "\n",
              "  <svg xmlns=\"http://www.w3.org/2000/svg\" height=\"24px\" viewBox=\"0 -960 960 960\">\n",
              "    <path d=\"M120-120v-720h720v720H120Zm60-500h600v-160H180v160Zm220 220h160v-160H400v160Zm0 220h160v-160H400v160ZM180-400h160v-160H180v160Zm440 0h160v-160H620v160ZM180-180h160v-160H180v160Zm440 0h160v-160H620v160Z\"/>\n",
              "  </svg>\n",
              "    </button>\n",
              "\n",
              "  <style>\n",
              "    .colab-df-container {\n",
              "      display:flex;\n",
              "      gap: 12px;\n",
              "    }\n",
              "\n",
              "    .colab-df-convert {\n",
              "      background-color: #E8F0FE;\n",
              "      border: none;\n",
              "      border-radius: 50%;\n",
              "      cursor: pointer;\n",
              "      display: none;\n",
              "      fill: #1967D2;\n",
              "      height: 32px;\n",
              "      padding: 0 0 0 0;\n",
              "      width: 32px;\n",
              "    }\n",
              "\n",
              "    .colab-df-convert:hover {\n",
              "      background-color: #E2EBFA;\n",
              "      box-shadow: 0px 1px 2px rgba(60, 64, 67, 0.3), 0px 1px 3px 1px rgba(60, 64, 67, 0.15);\n",
              "      fill: #174EA6;\n",
              "    }\n",
              "\n",
              "    .colab-df-buttons div {\n",
              "      margin-bottom: 4px;\n",
              "    }\n",
              "\n",
              "    [theme=dark] .colab-df-convert {\n",
              "      background-color: #3B4455;\n",
              "      fill: #D2E3FC;\n",
              "    }\n",
              "\n",
              "    [theme=dark] .colab-df-convert:hover {\n",
              "      background-color: #434B5C;\n",
              "      box-shadow: 0px 1px 3px 1px rgba(0, 0, 0, 0.15);\n",
              "      filter: drop-shadow(0px 1px 2px rgba(0, 0, 0, 0.3));\n",
              "      fill: #FFFFFF;\n",
              "    }\n",
              "  </style>\n",
              "\n",
              "    <script>\n",
              "      const buttonEl =\n",
              "        document.querySelector('#df-a415a123-e7cd-4316-a4a8-f78eb802dc91 button.colab-df-convert');\n",
              "      buttonEl.style.display =\n",
              "        google.colab.kernel.accessAllowed ? 'block' : 'none';\n",
              "\n",
              "      async function convertToInteractive(key) {\n",
              "        const element = document.querySelector('#df-a415a123-e7cd-4316-a4a8-f78eb802dc91');\n",
              "        const dataTable =\n",
              "          await google.colab.kernel.invokeFunction('convertToInteractive',\n",
              "                                                    [key], {});\n",
              "        if (!dataTable) return;\n",
              "\n",
              "        const docLinkHtml = 'Like what you see? Visit the ' +\n",
              "          '<a target=\"_blank\" href=https://colab.research.google.com/notebooks/data_table.ipynb>data table notebook</a>'\n",
              "          + ' to learn more about interactive tables.';\n",
              "        element.innerHTML = '';\n",
              "        dataTable['output_type'] = 'display_data';\n",
              "        await google.colab.output.renderOutput(dataTable, element);\n",
              "        const docLink = document.createElement('div');\n",
              "        docLink.innerHTML = docLinkHtml;\n",
              "        element.appendChild(docLink);\n",
              "      }\n",
              "    </script>\n",
              "  </div>\n",
              "\n",
              "\n",
              "<div id=\"df-c59604f3-1d8d-4940-99e2-6e0cf0aef300\">\n",
              "  <button class=\"colab-df-quickchart\" onclick=\"quickchart('df-c59604f3-1d8d-4940-99e2-6e0cf0aef300')\"\n",
              "            title=\"Suggest charts\"\n",
              "            style=\"display:none;\">\n",
              "\n",
              "<svg xmlns=\"http://www.w3.org/2000/svg\" height=\"24px\"viewBox=\"0 0 24 24\"\n",
              "     width=\"24px\">\n",
              "    <g>\n",
              "        <path d=\"M19 3H5c-1.1 0-2 .9-2 2v14c0 1.1.9 2 2 2h14c1.1 0 2-.9 2-2V5c0-1.1-.9-2-2-2zM9 17H7v-7h2v7zm4 0h-2V7h2v10zm4 0h-2v-4h2v4z\"/>\n",
              "    </g>\n",
              "</svg>\n",
              "  </button>\n",
              "\n",
              "<style>\n",
              "  .colab-df-quickchart {\n",
              "      --bg-color: #E8F0FE;\n",
              "      --fill-color: #1967D2;\n",
              "      --hover-bg-color: #E2EBFA;\n",
              "      --hover-fill-color: #174EA6;\n",
              "      --disabled-fill-color: #AAA;\n",
              "      --disabled-bg-color: #DDD;\n",
              "  }\n",
              "\n",
              "  [theme=dark] .colab-df-quickchart {\n",
              "      --bg-color: #3B4455;\n",
              "      --fill-color: #D2E3FC;\n",
              "      --hover-bg-color: #434B5C;\n",
              "      --hover-fill-color: #FFFFFF;\n",
              "      --disabled-bg-color: #3B4455;\n",
              "      --disabled-fill-color: #666;\n",
              "  }\n",
              "\n",
              "  .colab-df-quickchart {\n",
              "    background-color: var(--bg-color);\n",
              "    border: none;\n",
              "    border-radius: 50%;\n",
              "    cursor: pointer;\n",
              "    display: none;\n",
              "    fill: var(--fill-color);\n",
              "    height: 32px;\n",
              "    padding: 0;\n",
              "    width: 32px;\n",
              "  }\n",
              "\n",
              "  .colab-df-quickchart:hover {\n",
              "    background-color: var(--hover-bg-color);\n",
              "    box-shadow: 0 1px 2px rgba(60, 64, 67, 0.3), 0 1px 3px 1px rgba(60, 64, 67, 0.15);\n",
              "    fill: var(--button-hover-fill-color);\n",
              "  }\n",
              "\n",
              "  .colab-df-quickchart-complete:disabled,\n",
              "  .colab-df-quickchart-complete:disabled:hover {\n",
              "    background-color: var(--disabled-bg-color);\n",
              "    fill: var(--disabled-fill-color);\n",
              "    box-shadow: none;\n",
              "  }\n",
              "\n",
              "  .colab-df-spinner {\n",
              "    border: 2px solid var(--fill-color);\n",
              "    border-color: transparent;\n",
              "    border-bottom-color: var(--fill-color);\n",
              "    animation:\n",
              "      spin 1s steps(1) infinite;\n",
              "  }\n",
              "\n",
              "  @keyframes spin {\n",
              "    0% {\n",
              "      border-color: transparent;\n",
              "      border-bottom-color: var(--fill-color);\n",
              "      border-left-color: var(--fill-color);\n",
              "    }\n",
              "    20% {\n",
              "      border-color: transparent;\n",
              "      border-left-color: var(--fill-color);\n",
              "      border-top-color: var(--fill-color);\n",
              "    }\n",
              "    30% {\n",
              "      border-color: transparent;\n",
              "      border-left-color: var(--fill-color);\n",
              "      border-top-color: var(--fill-color);\n",
              "      border-right-color: var(--fill-color);\n",
              "    }\n",
              "    40% {\n",
              "      border-color: transparent;\n",
              "      border-right-color: var(--fill-color);\n",
              "      border-top-color: var(--fill-color);\n",
              "    }\n",
              "    60% {\n",
              "      border-color: transparent;\n",
              "      border-right-color: var(--fill-color);\n",
              "    }\n",
              "    80% {\n",
              "      border-color: transparent;\n",
              "      border-right-color: var(--fill-color);\n",
              "      border-bottom-color: var(--fill-color);\n",
              "    }\n",
              "    90% {\n",
              "      border-color: transparent;\n",
              "      border-bottom-color: var(--fill-color);\n",
              "    }\n",
              "  }\n",
              "</style>\n",
              "\n",
              "  <script>\n",
              "    async function quickchart(key) {\n",
              "      const quickchartButtonEl =\n",
              "        document.querySelector('#' + key + ' button');\n",
              "      quickchartButtonEl.disabled = true;  // To prevent multiple clicks.\n",
              "      quickchartButtonEl.classList.add('colab-df-spinner');\n",
              "      try {\n",
              "        const charts = await google.colab.kernel.invokeFunction(\n",
              "            'suggestCharts', [key], {});\n",
              "      } catch (error) {\n",
              "        console.error('Error during call to suggestCharts:', error);\n",
              "      }\n",
              "      quickchartButtonEl.classList.remove('colab-df-spinner');\n",
              "      quickchartButtonEl.classList.add('colab-df-quickchart-complete');\n",
              "    }\n",
              "    (() => {\n",
              "      let quickchartButtonEl =\n",
              "        document.querySelector('#df-c59604f3-1d8d-4940-99e2-6e0cf0aef300 button');\n",
              "      quickchartButtonEl.style.display =\n",
              "        google.colab.kernel.accessAllowed ? 'block' : 'none';\n",
              "    })();\n",
              "  </script>\n",
              "</div>\n",
              "\n",
              "  <div id=\"id_33e90918-faf3-46b0-8843-59678fd61391\">\n",
              "    <style>\n",
              "      .colab-df-generate {\n",
              "        background-color: #E8F0FE;\n",
              "        border: none;\n",
              "        border-radius: 50%;\n",
              "        cursor: pointer;\n",
              "        display: none;\n",
              "        fill: #1967D2;\n",
              "        height: 32px;\n",
              "        padding: 0 0 0 0;\n",
              "        width: 32px;\n",
              "      }\n",
              "\n",
              "      .colab-df-generate:hover {\n",
              "        background-color: #E2EBFA;\n",
              "        box-shadow: 0px 1px 2px rgba(60, 64, 67, 0.3), 0px 1px 3px 1px rgba(60, 64, 67, 0.15);\n",
              "        fill: #174EA6;\n",
              "      }\n",
              "\n",
              "      [theme=dark] .colab-df-generate {\n",
              "        background-color: #3B4455;\n",
              "        fill: #D2E3FC;\n",
              "      }\n",
              "\n",
              "      [theme=dark] .colab-df-generate:hover {\n",
              "        background-color: #434B5C;\n",
              "        box-shadow: 0px 1px 3px 1px rgba(0, 0, 0, 0.15);\n",
              "        filter: drop-shadow(0px 1px 2px rgba(0, 0, 0, 0.3));\n",
              "        fill: #FFFFFF;\n",
              "      }\n",
              "    </style>\n",
              "    <button class=\"colab-df-generate\" onclick=\"generateWithVariable('table')\"\n",
              "            title=\"Generate code using this dataframe.\"\n",
              "            style=\"display:none;\">\n",
              "\n",
              "  <svg xmlns=\"http://www.w3.org/2000/svg\" height=\"24px\"viewBox=\"0 0 24 24\"\n",
              "       width=\"24px\">\n",
              "    <path d=\"M7,19H8.4L18.45,9,17,7.55,7,17.6ZM5,21V16.75L18.45,3.32a2,2,0,0,1,2.83,0l1.4,1.43a1.91,1.91,0,0,1,.58,1.4,1.91,1.91,0,0,1-.58,1.4L9.25,21ZM18.45,9,17,7.55Zm-12,3A5.31,5.31,0,0,0,4.9,8.1,5.31,5.31,0,0,0,1,6.5,5.31,5.31,0,0,0,4.9,4.9,5.31,5.31,0,0,0,6.5,1,5.31,5.31,0,0,0,8.1,4.9,5.31,5.31,0,0,0,12,6.5,5.46,5.46,0,0,0,6.5,12Z\"/>\n",
              "  </svg>\n",
              "    </button>\n",
              "    <script>\n",
              "      (() => {\n",
              "      const buttonEl =\n",
              "        document.querySelector('#id_33e90918-faf3-46b0-8843-59678fd61391 button.colab-df-generate');\n",
              "      buttonEl.style.display =\n",
              "        google.colab.kernel.accessAllowed ? 'block' : 'none';\n",
              "\n",
              "      buttonEl.onclick = () => {\n",
              "        google.colab.notebook.generateWithVariable('table');\n",
              "      }\n",
              "      })();\n",
              "    </script>\n",
              "  </div>\n",
              "\n",
              "    </div>\n",
              "  </div>\n"
            ],
            "application/vnd.google.colaboratory.intrinsic+json": {
              "type": "dataframe",
              "variable_name": "table",
              "summary": "{\n  \"name\": \"table\",\n  \"rows\": 3,\n  \"fields\": [\n    {\n      \"column\": \"name\",\n      \"properties\": {\n        \"dtype\": \"string\",\n        \"num_unique_values\": 3,\n        \"samples\": [\n          \"image_2\",\n          \"download - 2024-11-08T104259\",\n          \"image_1\"\n        ],\n        \"semantic_type\": \"\",\n        \"description\": \"\"\n      }\n    },\n    {\n      \"column\": \"location\",\n      \"properties\": {\n        \"dtype\": \"category\",\n        \"num_unique_values\": 1,\n        \"samples\": [\n          \"/content/sample_images\"\n        ],\n        \"semantic_type\": \"\",\n        \"description\": \"\"\n      }\n    },\n    {\n      \"column\": \"date\",\n      \"properties\": {\n        \"dtype\": \"category\",\n        \"num_unique_values\": 1,\n        \"samples\": [\n          \"2021:10:28 01:23:13\"\n        ],\n        \"semantic_type\": \"\",\n        \"description\": \"\"\n      }\n    },\n    {\n      \"column\": \"format\",\n      \"properties\": {\n        \"dtype\": \"string\",\n        \"num_unique_values\": 2,\n        \"samples\": [\n          \"png\"\n        ],\n        \"semantic_type\": \"\",\n        \"description\": \"\"\n      }\n    }\n  ]\n}"
            }
          },
          "metadata": {},
          "execution_count": 22
        }
      ]
    },
    {
      "cell_type": "code",
      "source": [],
      "metadata": {
        "id": "LUIrGroUwDMh"
      },
      "execution_count": 22,
      "outputs": []
    },
    {
      "cell_type": "code",
      "source": [],
      "metadata": {
        "id": "7y2a7L60wDIW"
      },
      "execution_count": 22,
      "outputs": []
    },
    {
      "cell_type": "code",
      "source": [
        "duplicates = table[table.duplicated(subset=['format'], keep=False)]"
      ],
      "metadata": {
        "id": "1vGX-jgAjztr"
      },
      "execution_count": 24,
      "outputs": []
    },
    {
      "cell_type": "code",
      "source": [
        "# Pass the subset dataframe index and column to pd.IndexSlice\n",
        "slice_ = pd.IndexSlice[duplicates.index, :]\n",
        "\n",
        "table.style.set_properties(**{'background-color': 'red'}, subset=slice_)\n"
      ],
      "metadata": {
        "colab": {
          "base_uri": "https://localhost:8080/",
          "height": 143
        },
        "id": "1su_IRk4uO1I",
        "outputId": "c7397254-8a2d-4b9b-860d-7913a01fd0d9"
      },
      "execution_count": 25,
      "outputs": [
        {
          "output_type": "execute_result",
          "data": {
            "text/plain": [
              "<pandas.io.formats.style.Styler at 0x7811917a2800>"
            ],
            "text/html": [
              "<style type=\"text/css\">\n",
              "#T_76302_row0_col0, #T_76302_row0_col1, #T_76302_row0_col2, #T_76302_row0_col3, #T_76302_row2_col0, #T_76302_row2_col1, #T_76302_row2_col2, #T_76302_row2_col3 {\n",
              "  background-color: red;\n",
              "}\n",
              "</style>\n",
              "<table id=\"T_76302\" class=\"dataframe\">\n",
              "  <thead>\n",
              "    <tr>\n",
              "      <th class=\"blank level0\" >&nbsp;</th>\n",
              "      <th id=\"T_76302_level0_col0\" class=\"col_heading level0 col0\" >name</th>\n",
              "      <th id=\"T_76302_level0_col1\" class=\"col_heading level0 col1\" >location</th>\n",
              "      <th id=\"T_76302_level0_col2\" class=\"col_heading level0 col2\" >date</th>\n",
              "      <th id=\"T_76302_level0_col3\" class=\"col_heading level0 col3\" >format</th>\n",
              "    </tr>\n",
              "  </thead>\n",
              "  <tbody>\n",
              "    <tr>\n",
              "      <th id=\"T_76302_level0_row0\" class=\"row_heading level0 row0\" >0</th>\n",
              "      <td id=\"T_76302_row0_col0\" class=\"data row0 col0\" >image_2</td>\n",
              "      <td id=\"T_76302_row0_col1\" class=\"data row0 col1\" >/content/sample_images</td>\n",
              "      <td id=\"T_76302_row0_col2\" class=\"data row0 col2\" >2021:10:28 01:23:13</td>\n",
              "      <td id=\"T_76302_row0_col3\" class=\"data row0 col3\" >jpg</td>\n",
              "    </tr>\n",
              "    <tr>\n",
              "      <th id=\"T_76302_level0_row1\" class=\"row_heading level0 row1\" >1</th>\n",
              "      <td id=\"T_76302_row1_col0\" class=\"data row1 col0\" >download - 2024-11-08T104259</td>\n",
              "      <td id=\"T_76302_row1_col1\" class=\"data row1 col1\" >/content/sample_images</td>\n",
              "      <td id=\"T_76302_row1_col2\" class=\"data row1 col2\" >2021:10:28 01:23:13</td>\n",
              "      <td id=\"T_76302_row1_col3\" class=\"data row1 col3\" >png</td>\n",
              "    </tr>\n",
              "    <tr>\n",
              "      <th id=\"T_76302_level0_row2\" class=\"row_heading level0 row2\" >2</th>\n",
              "      <td id=\"T_76302_row2_col0\" class=\"data row2 col0\" >image_1</td>\n",
              "      <td id=\"T_76302_row2_col1\" class=\"data row2 col1\" >/content/sample_images</td>\n",
              "      <td id=\"T_76302_row2_col2\" class=\"data row2 col2\" >2021:10:28 01:23:13</td>\n",
              "      <td id=\"T_76302_row2_col3\" class=\"data row2 col3\" >jpg</td>\n",
              "    </tr>\n",
              "  </tbody>\n",
              "</table>\n"
            ]
          },
          "metadata": {},
          "execution_count": 25
        }
      ]
    },
    {
      "cell_type": "code",
      "source": [
        "#colour a table with duplicates"
      ],
      "metadata": {
        "id": "AQ1fgw_Jwbv3"
      },
      "execution_count": null,
      "outputs": []
    },
    {
      "cell_type": "code",
      "source": [
        "# rows_series = df[['colB','colC']].duplicated(keep=False)\n",
        "rows_series = table.duplicated(keep=False)\n",
        "rows = rows_series[rows_series].index.values\n",
        "table.style.apply(lambda x: ['background: yellow' if x.name in rows else '' for i in x], axis=1)"
      ],
      "metadata": {
        "colab": {
          "base_uri": "https://localhost:8080/",
          "height": 143
        },
        "id": "cI1Yv3Miws7f",
        "outputId": "4ab30d41-dd67-425c-dec5-e54b42d5ecf6"
      },
      "execution_count": 26,
      "outputs": [
        {
          "output_type": "execute_result",
          "data": {
            "text/plain": [
              "<pandas.io.formats.style.Styler at 0x7811913692a0>"
            ],
            "text/html": [
              "<style type=\"text/css\">\n",
              "</style>\n",
              "<table id=\"T_74ffa\" class=\"dataframe\">\n",
              "  <thead>\n",
              "    <tr>\n",
              "      <th class=\"blank level0\" >&nbsp;</th>\n",
              "      <th id=\"T_74ffa_level0_col0\" class=\"col_heading level0 col0\" >name</th>\n",
              "      <th id=\"T_74ffa_level0_col1\" class=\"col_heading level0 col1\" >location</th>\n",
              "      <th id=\"T_74ffa_level0_col2\" class=\"col_heading level0 col2\" >date</th>\n",
              "      <th id=\"T_74ffa_level0_col3\" class=\"col_heading level0 col3\" >format</th>\n",
              "    </tr>\n",
              "  </thead>\n",
              "  <tbody>\n",
              "    <tr>\n",
              "      <th id=\"T_74ffa_level0_row0\" class=\"row_heading level0 row0\" >0</th>\n",
              "      <td id=\"T_74ffa_row0_col0\" class=\"data row0 col0\" >image_2</td>\n",
              "      <td id=\"T_74ffa_row0_col1\" class=\"data row0 col1\" >/content/sample_images</td>\n",
              "      <td id=\"T_74ffa_row0_col2\" class=\"data row0 col2\" >2021:10:28 01:23:13</td>\n",
              "      <td id=\"T_74ffa_row0_col3\" class=\"data row0 col3\" >jpg</td>\n",
              "    </tr>\n",
              "    <tr>\n",
              "      <th id=\"T_74ffa_level0_row1\" class=\"row_heading level0 row1\" >1</th>\n",
              "      <td id=\"T_74ffa_row1_col0\" class=\"data row1 col0\" >download - 2024-11-08T104259</td>\n",
              "      <td id=\"T_74ffa_row1_col1\" class=\"data row1 col1\" >/content/sample_images</td>\n",
              "      <td id=\"T_74ffa_row1_col2\" class=\"data row1 col2\" >2021:10:28 01:23:13</td>\n",
              "      <td id=\"T_74ffa_row1_col3\" class=\"data row1 col3\" >png</td>\n",
              "    </tr>\n",
              "    <tr>\n",
              "      <th id=\"T_74ffa_level0_row2\" class=\"row_heading level0 row2\" >2</th>\n",
              "      <td id=\"T_74ffa_row2_col0\" class=\"data row2 col0\" >image_1</td>\n",
              "      <td id=\"T_74ffa_row2_col1\" class=\"data row2 col1\" >/content/sample_images</td>\n",
              "      <td id=\"T_74ffa_row2_col2\" class=\"data row2 col2\" >2021:10:28 01:23:13</td>\n",
              "      <td id=\"T_74ffa_row2_col3\" class=\"data row2 col3\" >jpg</td>\n",
              "    </tr>\n",
              "  </tbody>\n",
              "</table>\n"
            ]
          },
          "metadata": {},
          "execution_count": 26
        }
      ]
    },
    {
      "cell_type": "code",
      "source": [
        "colors = dict(zip(unique_fraud['IMSI'].unique(), (f'background-color: {c}' for c in plt.colors.cnames.values()))) unique_fraud.style.applymap(colors.get, subset=['IMSI'])"
      ],
      "metadata": {
        "id": "KW0TFVTfwypK"
      },
      "execution_count": null,
      "outputs": []
    },
    {
      "cell_type": "code",
      "source": [
        "#how to print a meta data once a file is found"
      ],
      "metadata": {
        "id": "Q5Di0hJSTtWA"
      },
      "execution_count": null,
      "outputs": []
    }
  ]
}